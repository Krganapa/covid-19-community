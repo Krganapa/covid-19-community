{
 "cells": [
  {
   "cell_type": "markdown",
   "metadata": {},
   "source": [
    "# Protein Protein Interaction Data\n",
    "**[Work in progress]**\n",
    "\n",
    "This notebook downloads and standardizes viral-host protein data from IntAct and other sources for ingestion into the Knowledge Graph.\n",
    "\n",
    "Data sources: [IntAct](https://www.ebi.ac.uk/intact/query/pubid:IM-27814), [Sequence Information](https://docs.google.com/spreadsheets/d/1m2SiCxyU_B1f4Ruu0wZafNXu8VQnjmog73bjWCS834A/edit?usp=sharing), [BioArXiv](https://www.biorxiv.org/content/10.1101/2020.03.22.002386v3.full)\n",
    "\n",
    "Authors: Kaushik Ganapathy, Eric Yu (krganapa@ucsd.edu, ery010@ucsd.edu)"
   ]
  },
  {
   "cell_type": "markdown",
   "metadata": {},
   "source": [
    "\n",
    "\n"
   ]
  },
  {
   "cell_type": "markdown",
   "metadata": {},
   "source": [
    "**Problem Description**\n",
    "* How does the SARS-COV2 Virus enter with the human body? How does the disease manifest itself once the virus has entered? These are some vital questions to answer, and we have reached a point where we have data to represent them qualitatively. \n",
    "\n",
    "\n",
    "* The SARS-COV2 virus enters into the Body with a help of a protein known as the enveleope protein, which is often seen as spikes on the surface of the virus. Furthermore, sequencing of the genome of the virus has provided us with other proteins which interact receptors (proteins) on humans. In this project, we present a workflow to assimilate information from such protein-protein interactions by integrating data from Experimental Papers, Online Interaction Databases and Genomic Data.\n",
    "\n",
    "\n",
    "* The files generated from this workflow can then be digested by the Knowledge Graph to create linkages with other data sources within this graph. Towards the end, we demonstate that as well. "
   ]
  },
  {
   "cell_type": "markdown",
   "metadata": {},
   "source": [
    "### External Package Imports"
   ]
  },
  {
   "cell_type": "code",
   "execution_count": 797,
   "metadata": {},
   "outputs": [],
   "source": [
    "import os\n",
    "import re\n",
    "import hashlib \n",
    "\n",
    "\n",
    "import pandas as pd\n",
    "import numpy as np\n",
    "\n",
    "from pathlib import Path\n",
    "from Bio import SeqIO\n",
    "from io import StringIO\n",
    "\n",
    "pd.options.display.max_rows = None  # display all rows\n",
    "pd.options.display.max_columns = None  # display all columsns"
   ]
  },
  {
   "cell_type": "code",
   "execution_count": 798,
   "metadata": {},
   "outputs": [],
   "source": [
    "# NEO4J_HOME = Path(os.getenv('NEO4J_HOME'))\n",
    "# print(NEO4J_HOME)"
   ]
  },
  {
   "cell_type": "markdown",
   "metadata": {},
   "source": [
    "**Downloaded data from IntAct MI-TAB 2.5 format**\n",
    "\n",
    "Autodownloading this is a WIP"
   ]
  },
  {
   "cell_type": "code",
   "execution_count": 799,
   "metadata": {},
   "outputs": [],
   "source": [
    "data = pd.read_csv('../reference_data/intact_data.txt', sep = '\\t')"
   ]
  },
  {
   "cell_type": "markdown",
   "metadata": {},
   "source": [
    "### Data Cleanup"
   ]
  },
  {
   "cell_type": "markdown",
   "metadata": {},
   "source": [
    "**Dropping unnecessary columns.**"
   ]
  },
  {
   "cell_type": "code",
   "execution_count": 800,
   "metadata": {},
   "outputs": [],
   "source": [
    "columns_to_drop = 'Iteraction detection method(s)\tPublication 1st author(s)\tPublication Identifier(s)\tTaxid interactor A\tTaxid interactor B\tInteraction type(s)\\tSource database(s)\\tConfidence value(s)'\n",
    "columns_to_drop = columns_to_drop.split('\\t')\n",
    "columns_retain = [col for col in data.columns if col not in columns_to_drop]\n",
    "#columns_retain += ['Taxid interactor A', 'Taxid interactor B']\n",
    "data = data[columns_retain]"
   ]
  },
  {
   "cell_type": "markdown",
   "metadata": {},
   "source": [
    "**Minor Column Renaming and Validation of Data Sources**\n",
    "\n",
    "***Cell should print \"All set to clean up\"***"
   ]
  },
  {
   "cell_type": "code",
   "execution_count": 801,
   "metadata": {},
   "outputs": [
    {
     "name": "stdout",
     "output_type": "stream",
     "text": [
      "All set to clean up SARS-COV-2 Column\n"
     ]
    }
   ],
   "source": [
    "data = data.rename({'#ID(s) interactor A': 'SARS_COV2_Protein_ID'}, axis = 1)\n",
    "unique_ids = data['SARS_COV2_Protein_ID'].unique()\n",
    "unique_data_sources_ids = np.unique([id_.split(':')[0] for id_ in unique_ids])\n",
    "if len(unique_data_sources_ids) == 1 and unique_data_sources_ids[0] == 'uniprotkb':\n",
    "    print('All set to clean up SARS-COV-2 Column')\n",
    "else:\n",
    "    raise ValueError('Unknown Data Sources present. Please check before proceeding')"
   ]
  },
  {
   "cell_type": "code",
   "execution_count": 802,
   "metadata": {},
   "outputs": [],
   "source": [
    "def standardize_names(identifier_id):\n",
    "    if 'uniprot' in identifier_id: return identifier_id.replace('uniprotkb', 'uniprot')\n",
    "    elif 'intact' in identifier_id: return identifier_id\n",
    "data['SARS_COV2_Protein_ID'] = data['SARS_COV2_Protein_ID'].apply(standardize_names)"
   ]
  },
  {
   "cell_type": "code",
   "execution_count": 803,
   "metadata": {},
   "outputs": [
    {
     "name": "stdout",
     "output_type": "stream",
     "text": [
      "All set!\n"
     ]
    }
   ],
   "source": [
    "handled = set(['uniprotkb', 'intact'])\n",
    "data = data.rename({'ID(s) interactor B': 'Human_Protein_ID'}, axis = 1)\n",
    "unique_ids = data['Human_Protein_ID'].unique()\n",
    "unique_data_sources_ids = np.unique([id_.split(':')[0] for id_ in unique_ids])\n",
    "if set(unique_data_sources_ids) == handled: print('All set!')\n",
    "else:\n",
    "    print(unique_data_sources_ids)\n",
    "    print ('Unknown Data Sources present. Please check before proceeding')"
   ]
  },
  {
   "cell_type": "code",
   "execution_count": 804,
   "metadata": {},
   "outputs": [],
   "source": [
    "data['Human_Protein_ID'] = data['Human_Protein_ID'].apply(standardize_names)"
   ]
  },
  {
   "cell_type": "markdown",
   "metadata": {},
   "source": [
    "### Standardizing names to match with other data sources"
   ]
  },
  {
   "cell_type": "code",
   "execution_count": 805,
   "metadata": {},
   "outputs": [],
   "source": [
    "def find_viral_name(viral_name):\n",
    "    return viral_name.split(':')[1].split('(')[0].split('_')[0].upper() \n",
    "\n",
    "\n",
    "def find_human_name(human_name):\n",
    "    return human_name.split(':')[1].split('(')[0].upper() \n",
    "\n",
    "\n",
    "data['Alias(es) interactor A'] = data['Alias(es) interactor A'].apply(find_viral_name)\n",
    "data['Alias(es) interactor B'] = data['Alias(es) interactor B'].apply(find_human_name)\n",
    "\n",
    "data = data.rename({'Alias(es) interactor A':'SARS_COV2_Protein_Name', 'Alias(es) interactor B':'Human_Protein_Name', 'Interaction identifier(s)\\\n",
    "':'Interaction_ID'}, axis = 1)\n",
    "data = data.drop('Interaction detection method(s)', axis = 1)"
   ]
  },
  {
   "cell_type": "markdown",
   "metadata": {},
   "source": [
    "### Manual Fixes to errors in Data Entry \n",
    "_Automated Workflow: WIP_"
   ]
  },
  {
   "cell_type": "markdown",
   "metadata": {},
   "source": [
    "**Correcting ORF3B**"
   ]
  },
  {
   "cell_type": "code",
   "execution_count": 806,
   "metadata": {
    "scrolled": true
   },
   "outputs": [
    {
     "data": {
      "text/html": [
       "<div>\n",
       "<style scoped>\n",
       "    .dataframe tbody tr th:only-of-type {\n",
       "        vertical-align: middle;\n",
       "    }\n",
       "\n",
       "    .dataframe tbody tr th {\n",
       "        vertical-align: top;\n",
       "    }\n",
       "\n",
       "    .dataframe thead th {\n",
       "        text-align: right;\n",
       "    }\n",
       "</style>\n",
       "<table border=\"1\" class=\"dataframe\">\n",
       "  <thead>\n",
       "    <tr style=\"text-align: right;\">\n",
       "      <th></th>\n",
       "      <th>SARS_COV2_Protein_ID</th>\n",
       "      <th>Human_Protein_ID</th>\n",
       "      <th>Alt. ID(s) interactor A</th>\n",
       "      <th>Alt. ID(s) interactor B</th>\n",
       "      <th>SARS_COV2_Protein_Name</th>\n",
       "      <th>Human_Protein_Name</th>\n",
       "      <th>Interaction_ID</th>\n",
       "    </tr>\n",
       "  </thead>\n",
       "  <tbody>\n",
       "    <tr>\n",
       "      <td>159</td>\n",
       "      <td>uniprot:Q9UJZ1</td>\n",
       "      <td>intact:EBI-25475912</td>\n",
       "      <td>intact:EBI-1044428|uniprotkb:B4E1K7|uniprotkb:...</td>\n",
       "      <td>-</td>\n",
       "      <td>STML2</td>\n",
       "      <td>ORF3B_WCPV</td>\n",
       "      <td>intact:EBI-25491308</td>\n",
       "    </tr>\n",
       "  </tbody>\n",
       "</table>\n",
       "</div>"
      ],
      "text/plain": [
       "    SARS_COV2_Protein_ID     Human_Protein_ID  \\\n",
       "159       uniprot:Q9UJZ1  intact:EBI-25475912   \n",
       "\n",
       "                               Alt. ID(s) interactor A  \\\n",
       "159  intact:EBI-1044428|uniprotkb:B4E1K7|uniprotkb:...   \n",
       "\n",
       "    Alt. ID(s) interactor B SARS_COV2_Protein_Name Human_Protein_Name  \\\n",
       "159                       -                  STML2         ORF3B_WCPV   \n",
       "\n",
       "          Interaction_ID  \n",
       "159  intact:EBI-25491308  "
      ]
     },
     "execution_count": 806,
     "metadata": {},
     "output_type": "execute_result"
    }
   ],
   "source": [
    "data[data['Human_Protein_ID'] == 'intact:EBI-25475912']"
   ]
  },
  {
   "cell_type": "code",
   "execution_count": 807,
   "metadata": {},
   "outputs": [],
   "source": [
    "correct = ['intact:EBI-25491308', 'uniprot:Q9UJZ1', '-', 'intact:EBI-1044428|uniprotkb:B4E1K7|uniprotkb:O60376|uniprotkb:Q53G29|uniprotkb:Q96FY2|uniprotkb:Q9P042|uniprotkb:D3DRN3', 'ORF3B', 'STML2', 'intact:EBI-25491308']\n",
    "data.loc[159] = correct"
   ]
  },
  {
   "cell_type": "markdown",
   "metadata": {},
   "source": [
    "**Correcting NSP5**"
   ]
  },
  {
   "cell_type": "code",
   "execution_count": 808,
   "metadata": {},
   "outputs": [
    {
     "data": {
      "text/html": [
       "<div>\n",
       "<style scoped>\n",
       "    .dataframe tbody tr th:only-of-type {\n",
       "        vertical-align: middle;\n",
       "    }\n",
       "\n",
       "    .dataframe tbody tr th {\n",
       "        vertical-align: top;\n",
       "    }\n",
       "\n",
       "    .dataframe thead th {\n",
       "        text-align: right;\n",
       "    }\n",
       "</style>\n",
       "<table border=\"1\" class=\"dataframe\">\n",
       "  <thead>\n",
       "    <tr style=\"text-align: right;\">\n",
       "      <th></th>\n",
       "      <th>SARS_COV2_Protein_ID</th>\n",
       "      <th>Human_Protein_ID</th>\n",
       "      <th>Alt. ID(s) interactor A</th>\n",
       "      <th>Alt. ID(s) interactor B</th>\n",
       "      <th>SARS_COV2_Protein_Name</th>\n",
       "      <th>Human_Protein_Name</th>\n",
       "      <th>Interaction_ID</th>\n",
       "    </tr>\n",
       "  </thead>\n",
       "  <tbody>\n",
       "    <tr>\n",
       "      <td>108</td>\n",
       "      <td>uniprot:Q92769</td>\n",
       "      <td>uniprot:P0DTD1-PRO_0000449623</td>\n",
       "      <td>intact:EBI-301821|uniprotkb:B3KRS5|uniprotkb:E...</td>\n",
       "      <td>intact:EBI-25475864</td>\n",
       "      <td>HDAC2</td>\n",
       "      <td>NSP5_WCPV</td>\n",
       "      <td>intact:EBI-25490970</td>\n",
       "    </tr>\n",
       "  </tbody>\n",
       "</table>\n",
       "</div>"
      ],
      "text/plain": [
       "    SARS_COV2_Protein_ID               Human_Protein_ID  \\\n",
       "108       uniprot:Q92769  uniprot:P0DTD1-PRO_0000449623   \n",
       "\n",
       "                               Alt. ID(s) interactor A  \\\n",
       "108  intact:EBI-301821|uniprotkb:B3KRS5|uniprotkb:E...   \n",
       "\n",
       "    Alt. ID(s) interactor B SARS_COV2_Protein_Name Human_Protein_Name  \\\n",
       "108     intact:EBI-25475864                  HDAC2          NSP5_WCPV   \n",
       "\n",
       "          Interaction_ID  \n",
       "108  intact:EBI-25490970  "
      ]
     },
     "execution_count": 808,
     "metadata": {},
     "output_type": "execute_result"
    }
   ],
   "source": [
    "data[data['SARS_COV2_Protein_ID'] == 'uniprot:Q92769']"
   ]
  },
  {
   "cell_type": "code",
   "execution_count": 809,
   "metadata": {},
   "outputs": [],
   "source": [
    "correct = ['uniprot:P0DTD1-PRO_0000449623', 'uniprot:Q92769', 'intact:EBI-25475864', 'intact:EBI-301821|uniprotkb:B3KRS5|uniprotkb:E1P561|uniprotkb:Q5SRI8|uniprotkb:Q5SZ86|uniprotkb:Q8NEH4|uniprotkb:B4DL58', 'NSP5', 'HDAC2', 'intact:EBI-25490970']\n",
    "data.loc[108] = correct"
   ]
  },
  {
   "cell_type": "markdown",
   "metadata": {},
   "source": [
    "**Correcting NSP11**"
   ]
  },
  {
   "cell_type": "code",
   "execution_count": 810,
   "metadata": {},
   "outputs": [
    {
     "data": {
      "text/html": [
       "<div>\n",
       "<style scoped>\n",
       "    .dataframe tbody tr th:only-of-type {\n",
       "        vertical-align: middle;\n",
       "    }\n",
       "\n",
       "    .dataframe tbody tr th {\n",
       "        vertical-align: top;\n",
       "    }\n",
       "\n",
       "    .dataframe thead th {\n",
       "        text-align: right;\n",
       "    }\n",
       "</style>\n",
       "<table border=\"1\" class=\"dataframe\">\n",
       "  <thead>\n",
       "    <tr style=\"text-align: right;\">\n",
       "      <th></th>\n",
       "      <th>SARS_COV2_Protein_ID</th>\n",
       "      <th>Human_Protein_ID</th>\n",
       "      <th>Alt. ID(s) interactor A</th>\n",
       "      <th>Alt. ID(s) interactor B</th>\n",
       "      <th>SARS_COV2_Protein_Name</th>\n",
       "      <th>Human_Protein_Name</th>\n",
       "      <th>Interaction_ID</th>\n",
       "    </tr>\n",
       "  </thead>\n",
       "  <tbody>\n",
       "    <tr>\n",
       "      <td>33</td>\n",
       "      <td>uniprot:O75347</td>\n",
       "      <td>uniprot:P0DTC1-PRO_0000449645</td>\n",
       "      <td>intact:EBI-2686341|uniprotkb:B4DT30</td>\n",
       "      <td>intact:EBI-25475882</td>\n",
       "      <td>TBCA</td>\n",
       "      <td>NSP11_WCPV</td>\n",
       "      <td>intact:EBI-25490682</td>\n",
       "    </tr>\n",
       "  </tbody>\n",
       "</table>\n",
       "</div>"
      ],
      "text/plain": [
       "   SARS_COV2_Protein_ID               Human_Protein_ID  \\\n",
       "33       uniprot:O75347  uniprot:P0DTC1-PRO_0000449645   \n",
       "\n",
       "                Alt. ID(s) interactor A Alt. ID(s) interactor B  \\\n",
       "33  intact:EBI-2686341|uniprotkb:B4DT30     intact:EBI-25475882   \n",
       "\n",
       "   SARS_COV2_Protein_Name Human_Protein_Name       Interaction_ID  \n",
       "33                   TBCA         NSP11_WCPV  intact:EBI-25490682  "
      ]
     },
     "execution_count": 810,
     "metadata": {},
     "output_type": "execute_result"
    }
   ],
   "source": [
    "data[data['SARS_COV2_Protein_ID'] == 'uniprot:O75347']"
   ]
  },
  {
   "cell_type": "code",
   "execution_count": 811,
   "metadata": {},
   "outputs": [],
   "source": [
    "correct = ['uniprot:P0DTC1-PRO_0000449645', 'uniprot:O75347', 'intact:EBI-25475882','intact:EBI-2686341|uniprotkb:B4DT30', 'NSP11', 'TBCA', 'intact:EBI-25490682']\n",
    "data.loc[33] = correct"
   ]
  },
  {
   "cell_type": "markdown",
   "metadata": {},
   "source": [
    "**Correcting NSP-C145A**"
   ]
  },
  {
   "cell_type": "code",
   "execution_count": 812,
   "metadata": {},
   "outputs": [],
   "source": [
    "data.loc[102]['SARS_COV2_Protein_ID'] = 'uniprot:NSP5_C145A'\n",
    "data.loc[103]['SARS_COV2_Protein_ID'] = 'uniprot:NSP5_C145A'\n",
    "data.loc[102]['SARS_COV2_Protein_Name'] = 'NSP5_C145A'\n",
    "data.loc[103]['SARS_COV2_Protein_Name'] = 'NSP5_C145A'"
   ]
  },
  {
   "cell_type": "markdown",
   "metadata": {},
   "source": [
    "**Selecting Relavent Columns from data to form the initial ```interactions``` dataframe**"
   ]
  },
  {
   "cell_type": "code",
   "execution_count": 813,
   "metadata": {},
   "outputs": [],
   "source": [
    "interactions = data[['SARS_COV2_Protein_ID', 'Human_Protein_ID', 'Interaction_ID']]"
   ]
  },
  {
   "cell_type": "markdown",
   "metadata": {},
   "source": [
    "### Creating Node data files"
   ]
  },
  {
   "cell_type": "code",
   "execution_count": 814,
   "metadata": {},
   "outputs": [],
   "source": [
    "data = data.rename({'Alt. ID(s) interactor A':'SARS_COV2_Alt_ID', 'Alt. ID(s) interactor B':'Human_Alt_ID'}, axis = 1)\n",
    "virus_df = data[['SARS_COV2_Protein_ID', 'SARS_COV2_Alt_ID', 'SARS_COV2_Protein_Name']]\n",
    "virus_df = virus_df.drop_duplicates(subset = ['SARS_COV2_Protein_ID', 'SARS_COV2_Protein_Name']).reset_index(drop = True)"
   ]
  },
  {
   "cell_type": "markdown",
   "metadata": {},
   "source": [
    "**Unnesting the Alternate IDs**"
   ]
  },
  {
   "cell_type": "code",
   "execution_count": 815,
   "metadata": {},
   "outputs": [],
   "source": [
    "def pre_un_nest(id_):\n",
    "    if '|' not in id_:\n",
    "        if 'intact' in id_:\n",
    "            return {'Alt_intact_ID': id_, 'Alt_uniprot_ID': np.nan}\n",
    "        elif 'uniprot_ID' in id_:\n",
    "            return {'Alt_intact_ID': np.nan, 'Alt_uniprot_ID': id_}\n",
    "    else:\n",
    "        ids = id_.split('|')\n",
    "        intact_data = []\n",
    "        uniprot_data = []\n",
    "        \n",
    "        for id__ in ids:   \n",
    "            if 'intact' in id__:\n",
    "                intact_data += [id__]\n",
    "                    \n",
    "            elif 'uniprot' in id__:\n",
    "                uniprot_data += [id__]\n",
    "                            \n",
    "        if len(uniprot_data) == 1:\n",
    "            uniprot_data = uniprot_data[0]\n",
    "            \n",
    "        if len(intact_data) == 1:\n",
    "            intact_data = intact_data[0]\n",
    "            \n",
    "        return {'Alt_uniprot_ID': uniprot_data, 'Alt_intact_ID': intact_data}"
   ]
  },
  {
   "cell_type": "code",
   "execution_count": 816,
   "metadata": {},
   "outputs": [],
   "source": [
    "unnested = (virus_df['SARS_COV2_Alt_ID'].apply(pre_un_nest)).apply(pd.Series)\n",
    "unnested['SARS_COV2_Protein_ID'] = virus_df['SARS_COV2_Protein_ID']\n",
    "unnested = unnested[unnested.columns.tolist()[::-1]]\n",
    "virus_df = virus_df.drop('SARS_COV2_Alt_ID', axis = 1)"
   ]
  },
  {
   "cell_type": "markdown",
   "metadata": {},
   "source": [
    "**Load in Jeff Law's Data with Sequences**"
   ]
  },
  {
   "cell_type": "code",
   "execution_count": 817,
   "metadata": {},
   "outputs": [],
   "source": [
    "sequence_interactions = pd.read_excel('../reference_data/2020-04-krogan-sarscov2-sequences-uniprot-mapping.xlsx')\n",
    "sequence_interactions = sequence_interactions.loc[:26, :]"
   ]
  },
  {
   "cell_type": "markdown",
   "metadata": {},
   "source": [
    "**Standardizing Names with IntAct data and selecting appropriate columns**"
   ]
  },
  {
   "cell_type": "code",
   "execution_count": 818,
   "metadata": {},
   "outputs": [],
   "source": [
    "sequence_interactions['SARS_COV2_Protein_Name'] = sequence_interactions['Krogan name'].apply(lambda name: name.split()[-1].upper())\n",
    "all_external_data = sequence_interactions[['SARS_COV2_Protein_Name', 'Sequence', 'Length', 'Start Pos', 'End Pos']]\n",
    "virus_df = virus_df.merge(all_external_data, how = 'outer', indicator=True)\n",
    "virus_df = virus_df[virus_df.columns[:-1]]"
   ]
  },
  {
   "cell_type": "markdown",
   "metadata": {},
   "source": [
    "### Generating md5 hash based on sequence"
   ]
  },
  {
   "cell_type": "code",
   "execution_count": 819,
   "metadata": {},
   "outputs": [],
   "source": [
    "assert len(virus_df) == len(virus_df['Sequence'].unique())\n",
    "\n",
    "virus_df['md5Hash'] = virus_df['Sequence'].apply(lambda seq: hashlib.md5(seq.encode()).hexdigest())\n",
    "virus_df = virus_df.rename({'SARS_COV2_Protein_ID': 'SARS_COV2_Identifier', 'md5Hash': 'SARS_COV2_Protein_ID'}, axis = 1)\n",
    "\n",
    "sequences = virus_df[['SARS_COV2_Protein_ID', 'SARS_COV2_Identifier', 'SARS_COV2_Protein_Name', 'Sequence', 'Length', 'Start Pos', 'End Pos']]\n",
    "sequences['Start Pos'] = sequences['Start Pos'].astype(int)\n",
    "sequences['End Pos'] = sequences['End Pos'].astype(int)\n",
    "\n",
    "map_identifiers = virus_df[['SARS_COV2_Identifier', 'SARS_COV2_Protein_ID']]"
   ]
  },
  {
   "cell_type": "markdown",
   "metadata": {},
   "source": [
    "### Mapping interactions to the ```interactions``` dataframe and the ```unnested``` dataframe"
   ]
  },
  {
   "cell_type": "code",
   "execution_count": 820,
   "metadata": {},
   "outputs": [],
   "source": [
    "interactions = interactions.rename({'SARS_COV2_Protein_ID': 'SARS_COV2_Identifier'}, axis = 1)\n",
    "interactions = interactions.merge(map_identifiers)\n",
    "interactions = interactions.drop('SARS_COV2_Identifier', axis = 1)\n",
    "interactions = interactions[['SARS_COV2_Protein_ID', 'Human_Protein_ID']]\n",
    "\n",
    "\n",
    "unnested = unnested.rename({'SARS_COV2_Protein_ID': 'SARS_COV2_Identifier'}, axis = 1)\n",
    "unnested['Alt_uniprot_ID'] = unnested['Alt_uniprot_ID'].apply(lambda id_: np.nan if id_ == [] else id_)\n",
    "unnested = unnested.merge(map_identifiers).drop('SARS_COV2_Identifier', axis = 1)\n",
    "unnested = unnested[unnested.columns[::-1]]"
   ]
  },
  {
   "cell_type": "markdown",
   "metadata": {},
   "source": [
    "### Creating the Human Proteins File"
   ]
  },
  {
   "cell_type": "code",
   "execution_count": 821,
   "metadata": {},
   "outputs": [],
   "source": [
    "human_data = data[['Human_Protein_ID', 'Human_Protein_Name', 'Human_Alt_ID']]\n",
    "unnested_aliases = (human_data['Human_Alt_ID'].apply(pre_un_nest)).apply(pd.Series)\n",
    "human_data = human_data.drop('Human_Alt_ID', axis = 1)\n",
    "unnested_aliases['Human_Protein_ID'] = human_data['Human_Protein_ID']\n",
    "unnested_aliases = unnested_aliases[unnested_aliases.columns[::-1]]"
   ]
  },
  {
   "cell_type": "code",
   "execution_count": 822,
   "metadata": {},
   "outputs": [],
   "source": [
    "sequences = sequences.rename({'SARS_COV2_Protein_ID':'ID', 'SARS_COV2_Protein_Name': 'Name', 'SARS_COV2_Identifier': 'Identifier'}, axis = 1)\n",
    "sequences['TaxonomyID'] = 2697049"
   ]
  },
  {
   "cell_type": "code",
   "execution_count": 823,
   "metadata": {},
   "outputs": [],
   "source": [
    "human_data = human_data.rename({'Human_Protein_ID':'ID', 'Human_Protein_Name': 'Name'}, axis = 1)"
   ]
  },
  {
   "cell_type": "code",
   "execution_count": 824,
   "metadata": {},
   "outputs": [],
   "source": [
    "human_data['TaxonomyID'] = 9606\n",
    "human_data['Identifier'] = human_data['ID']"
   ]
  },
  {
   "cell_type": "markdown",
   "metadata": {},
   "source": [
    "### Generating Sequences for all Human Proteins from UniprotKB using Batch retrieval"
   ]
  },
  {
   "cell_type": "code",
   "execution_count": 825,
   "metadata": {},
   "outputs": [],
   "source": [
    "def get_fasta_from_accession_id(ids_, source_fmt='ACC+ID', target_fmt=\"ACC\", output_fmt=\"fasta\"):\n",
    "    '''\n",
    "    Adapted from: Webinar on UniProt programmatically.\n",
    "    https://www.ebi.ac.uk/training/online/sites/ebi.ac.uk.training.online/files/UniProt_programmatically_py3.pdf\n",
    "    \n",
    "    Name: get_fasta_from_rcsb_id\n",
    "\n",
    "    Purpose: Finds the sequence as a fasta file for a given RCSB ID. \n",
    "\n",
    "    Arguments:\n",
    "        ids_: The list of UNIPROT Accession IDs whose sequence is required.\n",
    "        source_fmt: Defaults to Accession ID\n",
    "        target: Defaults to Accession \n",
    "        output_format: fasta, since we want a Fasta file\n",
    "\n",
    "    Output:\n",
    "        List of Sequences: if successful retrieval of sequence batch.\n",
    "        Empty: if unsuccessful in retrieving the sequence. \n",
    "    '''\n",
    "    \n",
    "    BASE = \"http://www.uniprot.org\"\n",
    "    KB_ENDPOINT = \"/uniprot/\"\n",
    "    TOOL_ENDPOINT = \"/uploadlists/\"\n",
    "\n",
    "    all_uniprot_ids  = ' '.join(ids_)\n",
    "    payload = {\"from\": source_fmt, \"to\": target_fmt, \"format\": output_fmt, \"query\": all_uniprot_ids,}    \n",
    "    response = requests.get(BASE + TOOL_ENDPOINT, params=payload)\n",
    "    \n",
    "    if response.status_code == 200 and response.text != '':\n",
    "        fasta_test = response.text\n",
    "        temp_file = StringIO(fasta_test)\n",
    "        record = SeqIO.parse(temp_file, \"fasta\")\n",
    "        \n",
    "        list_sequences = []\n",
    "        \n",
    "        for seqio_obj in record:\n",
    "            list_sequences += [str(seqio_obj.seq)]\n",
    "            \n",
    "        return list_sequences\n",
    "    \n",
    "    return ''"
   ]
  },
  {
   "cell_type": "markdown",
   "metadata": {},
   "source": [
    "### md5 Hashing the Sequence to create IDs for Uniformity"
   ]
  },
  {
   "cell_type": "code",
   "execution_count": 826,
   "metadata": {},
   "outputs": [],
   "source": [
    "human_data['Sequence'] = human_data['ID'].apply(lambda id_: id_.split(':')[1])\n",
    "human_data['Sequence'] = get_fasta_from_accession_id(human_data['Sequence'])\n",
    "human_data['ID'] = human_data['Sequence'].apply(lambda seq: hashlib.md5(seq.encode()).hexdigest())"
   ]
  },
  {
   "cell_type": "code",
   "execution_count": 827,
   "metadata": {},
   "outputs": [],
   "source": [
    "nodes = sequences.append(human_data, sort=True)\n",
    "nodes = nodes.fillna('')\n",
    "nodes = nodes[['ID', 'TaxonomyID', 'Name', 'Identifier', 'Sequence', 'Length', 'Start Pos', 'End Pos']]\n",
    "nodes['Length'] = nodes['Sequence'].apply(lambda s: len(s))"
   ]
  },
  {
   "cell_type": "markdown",
   "metadata": {},
   "source": [
    "### Displaying one Human and Viral Protein"
   ]
  },
  {
   "cell_type": "code",
   "execution_count": 828,
   "metadata": {},
   "outputs": [
    {
     "data": {
      "text/html": [
       "<div>\n",
       "<style scoped>\n",
       "    .dataframe tbody tr th:only-of-type {\n",
       "        vertical-align: middle;\n",
       "    }\n",
       "\n",
       "    .dataframe tbody tr th {\n",
       "        vertical-align: top;\n",
       "    }\n",
       "\n",
       "    .dataframe thead th {\n",
       "        text-align: right;\n",
       "    }\n",
       "</style>\n",
       "<table border=\"1\" class=\"dataframe\">\n",
       "  <thead>\n",
       "    <tr style=\"text-align: right;\">\n",
       "      <th></th>\n",
       "      <th>ID</th>\n",
       "      <th>TaxonomyID</th>\n",
       "      <th>Name</th>\n",
       "      <th>Identifier</th>\n",
       "      <th>Sequence</th>\n",
       "      <th>Length</th>\n",
       "      <th>Start Pos</th>\n",
       "      <th>End Pos</th>\n",
       "    </tr>\n",
       "  </thead>\n",
       "  <tbody>\n",
       "    <tr>\n",
       "      <td>0</td>\n",
       "      <td>d371d6023c01420a7c851ef893beaeee</td>\n",
       "      <td>9606</td>\n",
       "      <td>CTL2_HUMAN</td>\n",
       "      <td>uniprot:Q8IWA5</td>\n",
       "      <td>MGDERPHYYGKHGTPQKYDPTFKGPIYNRGCTDIICCVFLLLAIVG...</td>\n",
       "      <td></td>\n",
       "      <td></td>\n",
       "      <td></td>\n",
       "    </tr>\n",
       "    <tr>\n",
       "      <td>0</td>\n",
       "      <td>375e0f905c315e06a99c80b736c125d2</td>\n",
       "      <td>2697049</td>\n",
       "      <td>E</td>\n",
       "      <td>uniprot:P0DTC4</td>\n",
       "      <td>MYSFVSEETGTLIVNSVLLFLAFVVFLLVTLAILTALRLCAYCCNI...</td>\n",
       "      <td>75</td>\n",
       "      <td>26245</td>\n",
       "      <td>26472</td>\n",
       "    </tr>\n",
       "  </tbody>\n",
       "</table>\n",
       "</div>"
      ],
      "text/plain": [
       "                                 ID  TaxonomyID        Name      Identifier  \\\n",
       "0  d371d6023c01420a7c851ef893beaeee        9606  CTL2_HUMAN  uniprot:Q8IWA5   \n",
       "0  375e0f905c315e06a99c80b736c125d2     2697049           E  uniprot:P0DTC4   \n",
       "\n",
       "                                            Sequence Length Start Pos End Pos  \n",
       "0  MGDERPHYYGKHGTPQKYDPTFKGPIYNRGCTDIICCVFLLLAIVG...                           \n",
       "0  MYSFVSEETGTLIVNSVLLFLAFVVFLLVTLAILTALRLCAYCCNI...     75     26245   26472  "
      ]
     },
     "execution_count": 828,
     "metadata": {},
     "output_type": "execute_result"
    }
   ],
   "source": [
    "(human_data.head(1).append(sequences.head(1), sort=True))[['ID', 'TaxonomyID', 'Name', 'Identifier', 'Sequence', 'Length', 'Start Pos', 'End Pos']].fillna('')"
   ]
  },
  {
   "cell_type": "markdown",
   "metadata": {},
   "source": [
    "## PROBLEM!"
   ]
  },
  {
   "cell_type": "code",
   "execution_count": 829,
   "metadata": {},
   "outputs": [],
   "source": [
    "data_1c = pd.read_csv('01c-data.csv')"
   ]
  },
  {
   "cell_type": "code",
   "execution_count": 830,
   "metadata": {},
   "outputs": [
    {
     "data": {
      "text/html": [
       "<div>\n",
       "<style scoped>\n",
       "    .dataframe tbody tr th:only-of-type {\n",
       "        vertical-align: middle;\n",
       "    }\n",
       "\n",
       "    .dataframe tbody tr th {\n",
       "        vertical-align: top;\n",
       "    }\n",
       "\n",
       "    .dataframe thead th {\n",
       "        text-align: right;\n",
       "    }\n",
       "</style>\n",
       "<table border=\"1\" class=\"dataframe\">\n",
       "  <thead>\n",
       "    <tr style=\"text-align: right;\">\n",
       "      <th></th>\n",
       "      <th>start</th>\n",
       "      <th>end</th>\n",
       "      <th>gene</th>\n",
       "      <th>locus_tag</th>\n",
       "      <th>db_xref</th>\n",
       "      <th>product</th>\n",
       "      <th>protein_id</th>\n",
       "      <th>genbank_accession</th>\n",
       "      <th>protein_sequence</th>\n",
       "    </tr>\n",
       "  </thead>\n",
       "  <tbody>\n",
       "    <tr>\n",
       "      <td>0</td>\n",
       "      <td>266</td>\n",
       "      <td>21555</td>\n",
       "      <td>ORF1ab</td>\n",
       "      <td>GU280_gp01</td>\n",
       "      <td>GeneID:43740578</td>\n",
       "      <td>ORF1ab polyprotein</td>\n",
       "      <td>YP_009724389.1</td>\n",
       "      <td>NC_045512.2</td>\n",
       "      <td>MESLVPGFNEKTHVQLSLPVLQVRDVLVRGFGDSVEEVLSEARQHL...</td>\n",
       "    </tr>\n",
       "    <tr>\n",
       "      <td>1</td>\n",
       "      <td>266</td>\n",
       "      <td>13483</td>\n",
       "      <td>ORF1ab</td>\n",
       "      <td>GU280_gp01</td>\n",
       "      <td>GeneID:43740578</td>\n",
       "      <td>ORF1a polyprotein</td>\n",
       "      <td>YP_009725295.1</td>\n",
       "      <td>NC_045512.2</td>\n",
       "      <td>MESLVPGFNEKTHVQLSLPVLQVRDVLVRGFGDSVEEVLSEARQHL...</td>\n",
       "    </tr>\n",
       "    <tr>\n",
       "      <td>2</td>\n",
       "      <td>21563</td>\n",
       "      <td>25384</td>\n",
       "      <td>S</td>\n",
       "      <td>GU280_gp02</td>\n",
       "      <td>GeneID:43740568</td>\n",
       "      <td>surface glycoprotein</td>\n",
       "      <td>YP_009724390.1</td>\n",
       "      <td>NC_045512.2</td>\n",
       "      <td>MFVFLVLLPLVSSQCVNLTTRTQLPPAYTNSFTRGVYYPDKVFRSS...</td>\n",
       "    </tr>\n",
       "    <tr>\n",
       "      <td>3</td>\n",
       "      <td>25393</td>\n",
       "      <td>26220</td>\n",
       "      <td>ORF3a</td>\n",
       "      <td>GU280_gp03</td>\n",
       "      <td>GeneID:43740569</td>\n",
       "      <td>ORF3a protein</td>\n",
       "      <td>YP_009724391.1</td>\n",
       "      <td>NC_045512.2</td>\n",
       "      <td>MDLFMRIFTIGTVTLKQGEIKDATPSDFVRATATIPIQASLPFGWL...</td>\n",
       "    </tr>\n",
       "    <tr>\n",
       "      <td>4</td>\n",
       "      <td>26245</td>\n",
       "      <td>26472</td>\n",
       "      <td>E</td>\n",
       "      <td>GU280_gp04</td>\n",
       "      <td>GeneID:43740570</td>\n",
       "      <td>envelope protein</td>\n",
       "      <td>YP_009724392.1</td>\n",
       "      <td>NC_045512.2</td>\n",
       "      <td>MYSFVSEETGTLIVNSVLLFLAFVVFLLVTLAILTALRLCAYCCNI...</td>\n",
       "    </tr>\n",
       "  </tbody>\n",
       "</table>\n",
       "</div>"
      ],
      "text/plain": [
       "   start    end    gene   locus_tag          db_xref               product  \\\n",
       "0    266  21555  ORF1ab  GU280_gp01  GeneID:43740578    ORF1ab polyprotein   \n",
       "1    266  13483  ORF1ab  GU280_gp01  GeneID:43740578     ORF1a polyprotein   \n",
       "2  21563  25384       S  GU280_gp02  GeneID:43740568  surface glycoprotein   \n",
       "3  25393  26220   ORF3a  GU280_gp03  GeneID:43740569         ORF3a protein   \n",
       "4  26245  26472       E  GU280_gp04  GeneID:43740570      envelope protein   \n",
       "\n",
       "       protein_id genbank_accession  \\\n",
       "0  YP_009724389.1       NC_045512.2   \n",
       "1  YP_009725295.1       NC_045512.2   \n",
       "2  YP_009724390.1       NC_045512.2   \n",
       "3  YP_009724391.1       NC_045512.2   \n",
       "4  YP_009724392.1       NC_045512.2   \n",
       "\n",
       "                                    protein_sequence  \n",
       "0  MESLVPGFNEKTHVQLSLPVLQVRDVLVRGFGDSVEEVLSEARQHL...  \n",
       "1  MESLVPGFNEKTHVQLSLPVLQVRDVLVRGFGDSVEEVLSEARQHL...  \n",
       "2  MFVFLVLLPLVSSQCVNLTTRTQLPPAYTNSFTRGVYYPDKVFRSS...  \n",
       "3  MDLFMRIFTIGTVTLKQGEIKDATPSDFVRATATIPIQASLPFGWL...  \n",
       "4  MYSFVSEETGTLIVNSVLLFLAFVVFLLVTLAILTALRLCAYCCNI...  "
      ]
     },
     "execution_count": 830,
     "metadata": {},
     "output_type": "execute_result"
    }
   ],
   "source": [
    "data_1c.head()"
   ]
  },
  {
   "cell_type": "code",
   "execution_count": 831,
   "metadata": {},
   "outputs": [],
   "source": [
    "merged = nodes.merge(data_1c, left_on='Sequence', right_on='protein_sequence', indicator=True, how = 'outer')"
   ]
  },
  {
   "cell_type": "code",
   "execution_count": 832,
   "metadata": {},
   "outputs": [
    {
     "data": {
      "text/html": [
       "<div>\n",
       "<style scoped>\n",
       "    .dataframe tbody tr th:only-of-type {\n",
       "        vertical-align: middle;\n",
       "    }\n",
       "\n",
       "    .dataframe tbody tr th {\n",
       "        vertical-align: top;\n",
       "    }\n",
       "\n",
       "    .dataframe thead th {\n",
       "        text-align: right;\n",
       "    }\n",
       "</style>\n",
       "<table border=\"1\" class=\"dataframe\">\n",
       "  <thead>\n",
       "    <tr style=\"text-align: right;\">\n",
       "      <th></th>\n",
       "      <th>ID</th>\n",
       "      <th>TaxonomyID</th>\n",
       "      <th>Name</th>\n",
       "      <th>Identifier</th>\n",
       "      <th>Sequence</th>\n",
       "      <th>Length</th>\n",
       "      <th>Start Pos</th>\n",
       "      <th>End Pos</th>\n",
       "      <th>start</th>\n",
       "      <th>end</th>\n",
       "      <th>gene</th>\n",
       "      <th>locus_tag</th>\n",
       "      <th>db_xref</th>\n",
       "      <th>product</th>\n",
       "      <th>protein_id</th>\n",
       "      <th>genbank_accession</th>\n",
       "      <th>protein_sequence</th>\n",
       "      <th>_merge</th>\n",
       "    </tr>\n",
       "  </thead>\n",
       "  <tbody>\n",
       "    <tr>\n",
       "      <td>10</td>\n",
       "      <td>b6e8ea75d0679d091b1dc44cf395aaf4</td>\n",
       "      <td>2697049.0</td>\n",
       "      <td>NSP5_C145A</td>\n",
       "      <td>uniprot:NSP5_C145A</td>\n",
       "      <td>MSGFRKMAFPSGKVEGCMVQVTCGTTTLNGLWLDDVVYCPRHVICT...</td>\n",
       "      <td>307.0</td>\n",
       "      <td>3550</td>\n",
       "      <td>4470</td>\n",
       "      <td>NaN</td>\n",
       "      <td>NaN</td>\n",
       "      <td>NaN</td>\n",
       "      <td>NaN</td>\n",
       "      <td>NaN</td>\n",
       "      <td>NaN</td>\n",
       "      <td>NaN</td>\n",
       "      <td>NaN</td>\n",
       "      <td>NaN</td>\n",
       "      <td>left_only</td>\n",
       "    </tr>\n",
       "    <tr>\n",
       "      <td>22</td>\n",
       "      <td>20cfd282d01dd605a02d3d084ce320e9</td>\n",
       "      <td>2697049.0</td>\n",
       "      <td>ORF3B</td>\n",
       "      <td>intact:EBI-25491308</td>\n",
       "      <td>MAYCWRCTSCCFSERFQNHNPQKEMATSTLQGCSLCLQLAVVVCNS...</td>\n",
       "      <td>57.0</td>\n",
       "      <td>25524</td>\n",
       "      <td>25697</td>\n",
       "      <td>NaN</td>\n",
       "      <td>NaN</td>\n",
       "      <td>NaN</td>\n",
       "      <td>NaN</td>\n",
       "      <td>NaN</td>\n",
       "      <td>NaN</td>\n",
       "      <td>NaN</td>\n",
       "      <td>NaN</td>\n",
       "      <td>NaN</td>\n",
       "      <td>left_only</td>\n",
       "    </tr>\n",
       "    <tr>\n",
       "      <td>31</td>\n",
       "      <td>14d0b1a958f970cb18618c9aa65493fa</td>\n",
       "      <td>2697049.0</td>\n",
       "      <td>ORF8</td>\n",
       "      <td>uniprot:P0DTC8</td>\n",
       "      <td>MKFLVFLGIITTVAAFHQECSLQSCTQHQPYVVDDPCPIHFYSKWY...</td>\n",
       "      <td>121.0</td>\n",
       "      <td>27894</td>\n",
       "      <td>28259</td>\n",
       "      <td>NaN</td>\n",
       "      <td>NaN</td>\n",
       "      <td>NaN</td>\n",
       "      <td>NaN</td>\n",
       "      <td>NaN</td>\n",
       "      <td>NaN</td>\n",
       "      <td>NaN</td>\n",
       "      <td>NaN</td>\n",
       "      <td>NaN</td>\n",
       "      <td>left_only</td>\n",
       "    </tr>\n",
       "    <tr>\n",
       "      <td>32</td>\n",
       "      <td>9b66a6405fa5218ae819a76293365391</td>\n",
       "      <td>2697049.0</td>\n",
       "      <td>ORF9B</td>\n",
       "      <td>uniprot:P0DTD2</td>\n",
       "      <td>MDPKISEMHPALRLVDPQIQLAVTRMENAVGRDQNNVGPKVYPIIL...</td>\n",
       "      <td>97.0</td>\n",
       "      <td>28284</td>\n",
       "      <td>28577</td>\n",
       "      <td>NaN</td>\n",
       "      <td>NaN</td>\n",
       "      <td>NaN</td>\n",
       "      <td>NaN</td>\n",
       "      <td>NaN</td>\n",
       "      <td>NaN</td>\n",
       "      <td>NaN</td>\n",
       "      <td>NaN</td>\n",
       "      <td>NaN</td>\n",
       "      <td>left_only</td>\n",
       "    </tr>\n",
       "    <tr>\n",
       "      <td>33</td>\n",
       "      <td>74fa328ac0995fdbe2a3a0b2c4389f59</td>\n",
       "      <td>2697049.0</td>\n",
       "      <td>ORF9C</td>\n",
       "      <td>uniprot:P0DTD3</td>\n",
       "      <td>MLQSCYNFLKEQHCQKASTQKGAEAAVKPLLVPHHVVATVQEIQLQ...</td>\n",
       "      <td>73.0</td>\n",
       "      <td>28734</td>\n",
       "      <td>28955</td>\n",
       "      <td>NaN</td>\n",
       "      <td>NaN</td>\n",
       "      <td>NaN</td>\n",
       "      <td>NaN</td>\n",
       "      <td>NaN</td>\n",
       "      <td>NaN</td>\n",
       "      <td>NaN</td>\n",
       "      <td>NaN</td>\n",
       "      <td>NaN</td>\n",
       "      <td>left_only</td>\n",
       "    </tr>\n",
       "  </tbody>\n",
       "</table>\n",
       "</div>"
      ],
      "text/plain": [
       "                                  ID  TaxonomyID        Name  \\\n",
       "10  b6e8ea75d0679d091b1dc44cf395aaf4   2697049.0  NSP5_C145A   \n",
       "22  20cfd282d01dd605a02d3d084ce320e9   2697049.0       ORF3B   \n",
       "31  14d0b1a958f970cb18618c9aa65493fa   2697049.0        ORF8   \n",
       "32  9b66a6405fa5218ae819a76293365391   2697049.0       ORF9B   \n",
       "33  74fa328ac0995fdbe2a3a0b2c4389f59   2697049.0       ORF9C   \n",
       "\n",
       "             Identifier                                           Sequence  \\\n",
       "10   uniprot:NSP5_C145A  MSGFRKMAFPSGKVEGCMVQVTCGTTTLNGLWLDDVVYCPRHVICT...   \n",
       "22  intact:EBI-25491308  MAYCWRCTSCCFSERFQNHNPQKEMATSTLQGCSLCLQLAVVVCNS...   \n",
       "31       uniprot:P0DTC8  MKFLVFLGIITTVAAFHQECSLQSCTQHQPYVVDDPCPIHFYSKWY...   \n",
       "32       uniprot:P0DTD2  MDPKISEMHPALRLVDPQIQLAVTRMENAVGRDQNNVGPKVYPIIL...   \n",
       "33       uniprot:P0DTD3  MLQSCYNFLKEQHCQKASTQKGAEAAVKPLLVPHHVVATVQEIQLQ...   \n",
       "\n",
       "    Length Start Pos End Pos  start  end gene locus_tag db_xref product  \\\n",
       "10   307.0      3550    4470    NaN  NaN  NaN       NaN     NaN     NaN   \n",
       "22    57.0     25524   25697    NaN  NaN  NaN       NaN     NaN     NaN   \n",
       "31   121.0     27894   28259    NaN  NaN  NaN       NaN     NaN     NaN   \n",
       "32    97.0     28284   28577    NaN  NaN  NaN       NaN     NaN     NaN   \n",
       "33    73.0     28734   28955    NaN  NaN  NaN       NaN     NaN     NaN   \n",
       "\n",
       "   protein_id genbank_accession protein_sequence     _merge  \n",
       "10        NaN               NaN              NaN  left_only  \n",
       "22        NaN               NaN              NaN  left_only  \n",
       "31        NaN               NaN              NaN  left_only  \n",
       "32        NaN               NaN              NaN  left_only  \n",
       "33        NaN               NaN              NaN  left_only  "
      ]
     },
     "execution_count": 832,
     "metadata": {},
     "output_type": "execute_result"
    }
   ],
   "source": [
    "merged[(merged['TaxonomyID'] == 2697049) & (merged['_merge'] == 'left_only')]"
   ]
  },
  {
   "cell_type": "markdown",
   "metadata": {},
   "source": [
    "### Changing the ID for Human Proteins within Interactions and showing ```interactions```"
   ]
  },
  {
   "cell_type": "code",
   "execution_count": 833,
   "metadata": {},
   "outputs": [
    {
     "data": {
      "text/html": [
       "<div>\n",
       "<style scoped>\n",
       "    .dataframe tbody tr th:only-of-type {\n",
       "        vertical-align: middle;\n",
       "    }\n",
       "\n",
       "    .dataframe tbody tr th {\n",
       "        vertical-align: top;\n",
       "    }\n",
       "\n",
       "    .dataframe thead th {\n",
       "        text-align: right;\n",
       "    }\n",
       "</style>\n",
       "<table border=\"1\" class=\"dataframe\">\n",
       "  <thead>\n",
       "    <tr style=\"text-align: right;\">\n",
       "      <th></th>\n",
       "      <th>SARS_COV2_Protein_ID</th>\n",
       "      <th>Human_Protein_ID</th>\n",
       "    </tr>\n",
       "  </thead>\n",
       "  <tbody>\n",
       "    <tr>\n",
       "      <td>0</td>\n",
       "      <td>375e0f905c315e06a99c80b736c125d2</td>\n",
       "      <td>d371d6023c01420a7c851ef893beaeee</td>\n",
       "    </tr>\n",
       "    <tr>\n",
       "      <td>1</td>\n",
       "      <td>375e0f905c315e06a99c80b736c125d2</td>\n",
       "      <td>bbf43a67b8733f0649b049d494f6872c</td>\n",
       "    </tr>\n",
       "    <tr>\n",
       "      <td>2</td>\n",
       "      <td>375e0f905c315e06a99c80b736c125d2</td>\n",
       "      <td>0d02b8a38020b8f429a6cc9e238e3e4f</td>\n",
       "    </tr>\n",
       "    <tr>\n",
       "      <td>3</td>\n",
       "      <td>375e0f905c315e06a99c80b736c125d2</td>\n",
       "      <td>5dd925de15997e9e3938ab23517cdcfc</td>\n",
       "    </tr>\n",
       "    <tr>\n",
       "      <td>4</td>\n",
       "      <td>375e0f905c315e06a99c80b736c125d2</td>\n",
       "      <td>8dbafa77ef94052d86515e8d7fe1a6f3</td>\n",
       "    </tr>\n",
       "  </tbody>\n",
       "</table>\n",
       "</div>"
      ],
      "text/plain": [
       "               SARS_COV2_Protein_ID                  Human_Protein_ID\n",
       "0  375e0f905c315e06a99c80b736c125d2  d371d6023c01420a7c851ef893beaeee\n",
       "1  375e0f905c315e06a99c80b736c125d2  bbf43a67b8733f0649b049d494f6872c\n",
       "2  375e0f905c315e06a99c80b736c125d2  0d02b8a38020b8f429a6cc9e238e3e4f\n",
       "3  375e0f905c315e06a99c80b736c125d2  5dd925de15997e9e3938ab23517cdcfc\n",
       "4  375e0f905c315e06a99c80b736c125d2  8dbafa77ef94052d86515e8d7fe1a6f3"
      ]
     },
     "execution_count": 833,
     "metadata": {},
     "output_type": "execute_result"
    }
   ],
   "source": [
    "interactions = interactions.merge(nodes, left_on='Human_Protein_ID', right_on='Identifier')[['SARS_COV2_Protein_ID', 'ID']]\n",
    "interactions = interactions.rename({'ID':'Human_Protein_ID'}, axis = 1)\n",
    "interactions.head()"
   ]
  },
  {
   "cell_type": "markdown",
   "metadata": {},
   "source": [
    "## Deliverables for Protein-Protein Interactions"
   ]
  },
  {
   "cell_type": "markdown",
   "metadata": {},
   "source": [
    "* **```Nodes```**: Contains all the  protein nodes (human & viral) and associated information, with most conflicts resolved from the 3 data sources. Proteins are identified with the md5 hash a.k.a. protein id. Also contains information on sequences, start-point in genome, end-point in genome, and a standard identifiers.org representation. \n",
    "\n",
    "\n",
    "* **```Interactions```**:  Contains all the interactions between a viral protein and a human protein. Each one of these interactions also has an ID which is resolvable on identifiers.org."
   ]
  },
  {
   "cell_type": "code",
   "execution_count": 834,
   "metadata": {},
   "outputs": [
    {
     "data": {
      "text/html": [
       "<div>\n",
       "<style scoped>\n",
       "    .dataframe tbody tr th:only-of-type {\n",
       "        vertical-align: middle;\n",
       "    }\n",
       "\n",
       "    .dataframe tbody tr th {\n",
       "        vertical-align: top;\n",
       "    }\n",
       "\n",
       "    .dataframe thead th {\n",
       "        text-align: right;\n",
       "    }\n",
       "</style>\n",
       "<table border=\"1\" class=\"dataframe\">\n",
       "  <thead>\n",
       "    <tr style=\"text-align: right;\">\n",
       "      <th></th>\n",
       "      <th>ID</th>\n",
       "      <th>TaxonomyID</th>\n",
       "      <th>Name</th>\n",
       "      <th>Identifier</th>\n",
       "      <th>Sequence</th>\n",
       "      <th>Length</th>\n",
       "      <th>Start Pos</th>\n",
       "      <th>End Pos</th>\n",
       "    </tr>\n",
       "  </thead>\n",
       "  <tbody>\n",
       "    <tr>\n",
       "      <td>0</td>\n",
       "      <td>375e0f905c315e06a99c80b736c125d2</td>\n",
       "      <td>2697049</td>\n",
       "      <td>E</td>\n",
       "      <td>uniprot:P0DTC4</td>\n",
       "      <td>MYSFVSEETGTLIVNSVLLFLAFVVFLLVTLAILTALRLCAYCCNI...</td>\n",
       "      <td>75</td>\n",
       "      <td>26245</td>\n",
       "      <td>26472</td>\n",
       "    </tr>\n",
       "    <tr>\n",
       "      <td>1</td>\n",
       "      <td>1cd6abff79ad3633e17582eb0e576539</td>\n",
       "      <td>2697049</td>\n",
       "      <td>M</td>\n",
       "      <td>uniprot:P0DTC5</td>\n",
       "      <td>MADSNGTITVEELKKLLEQWNLVIGFLFLTWICLLQFAYANRNRFL...</td>\n",
       "      <td>222</td>\n",
       "      <td>26523</td>\n",
       "      <td>27191</td>\n",
       "    </tr>\n",
       "    <tr>\n",
       "      <td>2</td>\n",
       "      <td>5c2c364f44079728c451280435c4236a</td>\n",
       "      <td>2697049</td>\n",
       "      <td>NSP1</td>\n",
       "      <td>uniprot:P0DTD1-PRO_0000449619</td>\n",
       "      <td>MESLVPGFNEKTHVQLSLPVLQVRDVLVRGFGDSVEEVLSEARQHL...</td>\n",
       "      <td>180</td>\n",
       "      <td>266</td>\n",
       "      <td>805</td>\n",
       "    </tr>\n",
       "    <tr>\n",
       "      <td>3</td>\n",
       "      <td>63d2c81f37726f44c600eb5225676a66</td>\n",
       "      <td>2697049</td>\n",
       "      <td>NSP11</td>\n",
       "      <td>uniprot:P0DTC1-PRO_0000449645</td>\n",
       "      <td>SADAQSFLNGFAV</td>\n",
       "      <td>13</td>\n",
       "      <td>13442</td>\n",
       "      <td>13484</td>\n",
       "    </tr>\n",
       "    <tr>\n",
       "      <td>4</td>\n",
       "      <td>af0cec59296f3c845a7b04500cd6886b</td>\n",
       "      <td>2697049</td>\n",
       "      <td>NSP10</td>\n",
       "      <td>uniprot:P0DTD1-PRO_0000449628</td>\n",
       "      <td>AGNATEVPANSTVLSFCAFAVDAAKAYKDYLASGGQPITNCVKMLC...</td>\n",
       "      <td>139</td>\n",
       "      <td>13025</td>\n",
       "      <td>13441</td>\n",
       "    </tr>\n",
       "  </tbody>\n",
       "</table>\n",
       "</div>"
      ],
      "text/plain": [
       "                                 ID  TaxonomyID   Name  \\\n",
       "0  375e0f905c315e06a99c80b736c125d2     2697049      E   \n",
       "1  1cd6abff79ad3633e17582eb0e576539     2697049      M   \n",
       "2  5c2c364f44079728c451280435c4236a     2697049   NSP1   \n",
       "3  63d2c81f37726f44c600eb5225676a66     2697049  NSP11   \n",
       "4  af0cec59296f3c845a7b04500cd6886b     2697049  NSP10   \n",
       "\n",
       "                      Identifier  \\\n",
       "0                 uniprot:P0DTC4   \n",
       "1                 uniprot:P0DTC5   \n",
       "2  uniprot:P0DTD1-PRO_0000449619   \n",
       "3  uniprot:P0DTC1-PRO_0000449645   \n",
       "4  uniprot:P0DTD1-PRO_0000449628   \n",
       "\n",
       "                                            Sequence  Length Start Pos End Pos  \n",
       "0  MYSFVSEETGTLIVNSVLLFLAFVVFLLVTLAILTALRLCAYCCNI...      75     26245   26472  \n",
       "1  MADSNGTITVEELKKLLEQWNLVIGFLFLTWICLLQFAYANRNRFL...     222     26523   27191  \n",
       "2  MESLVPGFNEKTHVQLSLPVLQVRDVLVRGFGDSVEEVLSEARQHL...     180       266     805  \n",
       "3                                      SADAQSFLNGFAV      13     13442   13484  \n",
       "4  AGNATEVPANSTVLSFCAFAVDAAKAYKDYLASGGQPITNCVKMLC...     139     13025   13441  "
      ]
     },
     "execution_count": 834,
     "metadata": {},
     "output_type": "execute_result"
    }
   ],
   "source": [
    "nodes.head()"
   ]
  },
  {
   "cell_type": "code",
   "execution_count": 763,
   "metadata": {},
   "outputs": [
    {
     "data": {
      "text/html": [
       "<div>\n",
       "<style scoped>\n",
       "    .dataframe tbody tr th:only-of-type {\n",
       "        vertical-align: middle;\n",
       "    }\n",
       "\n",
       "    .dataframe tbody tr th {\n",
       "        vertical-align: top;\n",
       "    }\n",
       "\n",
       "    .dataframe thead th {\n",
       "        text-align: right;\n",
       "    }\n",
       "</style>\n",
       "<table border=\"1\" class=\"dataframe\">\n",
       "  <thead>\n",
       "    <tr style=\"text-align: right;\">\n",
       "      <th></th>\n",
       "      <th>SARS_COV2_Protein_ID</th>\n",
       "      <th>Human_Protein_ID</th>\n",
       "    </tr>\n",
       "  </thead>\n",
       "  <tbody>\n",
       "    <tr>\n",
       "      <td>0</td>\n",
       "      <td>375e0f905c315e06a99c80b736c125d2</td>\n",
       "      <td>d371d6023c01420a7c851ef893beaeee</td>\n",
       "    </tr>\n",
       "    <tr>\n",
       "      <td>1</td>\n",
       "      <td>375e0f905c315e06a99c80b736c125d2</td>\n",
       "      <td>bbf43a67b8733f0649b049d494f6872c</td>\n",
       "    </tr>\n",
       "    <tr>\n",
       "      <td>2</td>\n",
       "      <td>375e0f905c315e06a99c80b736c125d2</td>\n",
       "      <td>0d02b8a38020b8f429a6cc9e238e3e4f</td>\n",
       "    </tr>\n",
       "    <tr>\n",
       "      <td>3</td>\n",
       "      <td>375e0f905c315e06a99c80b736c125d2</td>\n",
       "      <td>5dd925de15997e9e3938ab23517cdcfc</td>\n",
       "    </tr>\n",
       "    <tr>\n",
       "      <td>4</td>\n",
       "      <td>375e0f905c315e06a99c80b736c125d2</td>\n",
       "      <td>8dbafa77ef94052d86515e8d7fe1a6f3</td>\n",
       "    </tr>\n",
       "  </tbody>\n",
       "</table>\n",
       "</div>"
      ],
      "text/plain": [
       "               SARS_COV2_Protein_ID                  Human_Protein_ID\n",
       "0  375e0f905c315e06a99c80b736c125d2  d371d6023c01420a7c851ef893beaeee\n",
       "1  375e0f905c315e06a99c80b736c125d2  bbf43a67b8733f0649b049d494f6872c\n",
       "2  375e0f905c315e06a99c80b736c125d2  0d02b8a38020b8f429a6cc9e238e3e4f\n",
       "3  375e0f905c315e06a99c80b736c125d2  5dd925de15997e9e3938ab23517cdcfc\n",
       "4  375e0f905c315e06a99c80b736c125d2  8dbafa77ef94052d86515e8d7fe1a6f3"
      ]
     },
     "execution_count": 763,
     "metadata": {},
     "output_type": "execute_result"
    }
   ],
   "source": [
    "interactions.head()"
   ]
  },
  {
   "cell_type": "markdown",
   "metadata": {},
   "source": [
    "### Writing all files to csv"
   ]
  },
  {
   "cell_type": "markdown",
   "metadata": {},
   "source": [
    "**Converting all relavent information to Strings and replacing NaN's with '' to make sure NEO-4J understands them as empty properies**"
   ]
  },
  {
   "cell_type": "code",
   "execution_count": 764,
   "metadata": {},
   "outputs": [],
   "source": [
    "nodes = nodes.fillna('')\n",
    "nodes['Start Pos'] = nodes['Start Pos'].apply(str)\n",
    "nodes['End Pos'] = nodes['End Pos'].astype(str)\n",
    "nodes['Start Pos'] = nodes['Start Pos'].apply(lambda val: str(int(float(val))) if val != '' else val)\n",
    "nodes['End Pos'] = nodes['End Pos'].apply(lambda val: str(int(float(val))) if val != '' else val)\n",
    "nodes['Length'] = nodes['Length'].apply(lambda val: str(int(float(val))) if val != '' else val)"
   ]
  },
  {
   "cell_type": "code",
   "execution_count": 765,
   "metadata": {},
   "outputs": [],
   "source": [
    "#FOR NEO-4J Server Setup (NOT LOCAL)\n",
    "# nodes.to_csv(NEO4J_HOME / 'import/01e-nodes.csv', index = False)\n",
    "# interactions.to_csv(NEO4J_HOME / 'import/01e-interactions.csv', index = False)\n",
    "\n",
    "##########################################################################\n",
    "# unnested.to_csv(NEO4J_HOME / 'import/01e-virus_alias.csv', index = False)\n",
    "# unnested_aliases.to_csv(NEO4J_HOME / 'import/01e-human_alias.csv', index = False)\n",
    "##########################################################################"
   ]
  },
  {
   "cell_type": "code",
   "execution_count": 766,
   "metadata": {},
   "outputs": [],
   "source": [
    "nodes.to_csv('01e-nodes_OG.csv', index = False)\n",
    "interactions.to_csv('01e-interactions_OG.csv', index = False)"
   ]
  },
  {
   "cell_type": "markdown",
   "metadata": {},
   "source": [
    "### End resulting files"
   ]
  },
  {
   "cell_type": "markdown",
   "metadata": {},
   "source": [
    "**```01e-nodes.csv```**: Contains all the protein sequences from the human and virus sides, along with associated information, with all conflicts resolved from the 3 data sources. Proteins are identified with the md5 hash a.k.a. protein id. Also contains information on sequences, start-point in genome, end-point in genome, and a standard identifiers.org representation. \n",
    "\n",
    "**```01e-virus_alias.csv```**: Contains all the alias IDs known for the viral sequences,be it interact or uniprot. Keyed by the protein ID.\n",
    "\n",
    "**```01e-human_alias.csv```**: Contains all the alias IDs known for the human sequences,be it interact or uniprot. Keyed by the protein ID.\n",
    "\n",
    "**```01e-interactions.csv```**: Contains all the interactions between a viral protein and a human protein. Each one of these interactions also has an ID which is resolvable on identifiers.org."
   ]
  },
  {
   "cell_type": "code",
   "execution_count": 767,
   "metadata": {},
   "outputs": [],
   "source": [
    "#TODO: \n",
    "#Automated Download of Intact Data"
   ]
  },
  {
   "cell_type": "markdown",
   "metadata": {},
   "source": [
    "### Further Scope: Potential Cool Extensions/Integration"
   ]
  },
  {
   "cell_type": "code",
   "execution_count": 768,
   "metadata": {},
   "outputs": [
    {
     "data": {
      "text/html": [
       "<div>\n",
       "<style scoped>\n",
       "    .dataframe tbody tr th:only-of-type {\n",
       "        vertical-align: middle;\n",
       "    }\n",
       "\n",
       "    .dataframe tbody tr th {\n",
       "        vertical-align: top;\n",
       "    }\n",
       "\n",
       "    .dataframe thead th {\n",
       "        text-align: right;\n",
       "    }\n",
       "</style>\n",
       "<table border=\"1\" class=\"dataframe\">\n",
       "  <thead>\n",
       "    <tr style=\"text-align: right;\">\n",
       "      <th></th>\n",
       "      <th>SARS_COV2_Protein_ID</th>\n",
       "      <th>Human_Protein_ID</th>\n",
       "    </tr>\n",
       "  </thead>\n",
       "  <tbody>\n",
       "    <tr>\n",
       "      <td>213</td>\n",
       "      <td>8c32758bc2f4b49ed8c6dfe7caa7ea49</td>\n",
       "      <td>b93aa29fb8777bda1a99351c11cd5ba9</td>\n",
       "    </tr>\n",
       "    <tr>\n",
       "      <td>214</td>\n",
       "      <td>8c32758bc2f4b49ed8c6dfe7caa7ea49</td>\n",
       "      <td>1760a7e2012ae33c54aa97b27e3c8406</td>\n",
       "    </tr>\n",
       "    <tr>\n",
       "      <td>215</td>\n",
       "      <td>8c32758bc2f4b49ed8c6dfe7caa7ea49</td>\n",
       "      <td>7f4d2b129d44429a4ae8e8e467d484e9</td>\n",
       "    </tr>\n",
       "    <tr>\n",
       "      <td>216</td>\n",
       "      <td>8c32758bc2f4b49ed8c6dfe7caa7ea49</td>\n",
       "      <td>f54c2cc57f3ea7da2771fb348966ff0b</td>\n",
       "    </tr>\n",
       "    <tr>\n",
       "      <td>217</td>\n",
       "      <td>8c32758bc2f4b49ed8c6dfe7caa7ea49</td>\n",
       "      <td>ad9411e50bea7d1cf2aa06bb87e058ae</td>\n",
       "    </tr>\n",
       "    <tr>\n",
       "      <td>218</td>\n",
       "      <td>8c32758bc2f4b49ed8c6dfe7caa7ea49</td>\n",
       "      <td>d0f2785e425f4a8e3ecef669a9384a38</td>\n",
       "    </tr>\n",
       "    <tr>\n",
       "      <td>219</td>\n",
       "      <td>8c32758bc2f4b49ed8c6dfe7caa7ea49</td>\n",
       "      <td>3cb6b6b668ed5f7a90159f9d1dcb0ec2</td>\n",
       "    </tr>\n",
       "    <tr>\n",
       "      <td>220</td>\n",
       "      <td>8c32758bc2f4b49ed8c6dfe7caa7ea49</td>\n",
       "      <td>292d422968c9195f3868c77f183d7e5f</td>\n",
       "    </tr>\n",
       "    <tr>\n",
       "      <td>221</td>\n",
       "      <td>8c32758bc2f4b49ed8c6dfe7caa7ea49</td>\n",
       "      <td>d999520723b2365d2293939612d9ca37</td>\n",
       "    </tr>\n",
       "    <tr>\n",
       "      <td>222</td>\n",
       "      <td>8c32758bc2f4b49ed8c6dfe7caa7ea49</td>\n",
       "      <td>c9ddca4904950f36444729ce8e7a4e5f</td>\n",
       "    </tr>\n",
       "    <tr>\n",
       "      <td>223</td>\n",
       "      <td>8c32758bc2f4b49ed8c6dfe7caa7ea49</td>\n",
       "      <td>0a6489bb1c591f6b6124cf857df520d3</td>\n",
       "    </tr>\n",
       "    <tr>\n",
       "      <td>224</td>\n",
       "      <td>8c32758bc2f4b49ed8c6dfe7caa7ea49</td>\n",
       "      <td>131f7016223590ffc74b90fff02a2d22</td>\n",
       "    </tr>\n",
       "    <tr>\n",
       "      <td>225</td>\n",
       "      <td>8c32758bc2f4b49ed8c6dfe7caa7ea49</td>\n",
       "      <td>7f5e4514e29a4b13083ac51a4af89b96</td>\n",
       "    </tr>\n",
       "    <tr>\n",
       "      <td>226</td>\n",
       "      <td>8c32758bc2f4b49ed8c6dfe7caa7ea49</td>\n",
       "      <td>e83e2ce8d325ed9e5bc132f84afdebb4</td>\n",
       "    </tr>\n",
       "    <tr>\n",
       "      <td>227</td>\n",
       "      <td>8c32758bc2f4b49ed8c6dfe7caa7ea49</td>\n",
       "      <td>f8f84ac9dc30f3ff640ad4f691fee2b1</td>\n",
       "    </tr>\n",
       "    <tr>\n",
       "      <td>228</td>\n",
       "      <td>8c32758bc2f4b49ed8c6dfe7caa7ea49</td>\n",
       "      <td>ca6492edea775480a14b2d207db54706</td>\n",
       "    </tr>\n",
       "  </tbody>\n",
       "</table>\n",
       "</div>"
      ],
      "text/plain": [
       "                 SARS_COV2_Protein_ID                  Human_Protein_ID\n",
       "213  8c32758bc2f4b49ed8c6dfe7caa7ea49  b93aa29fb8777bda1a99351c11cd5ba9\n",
       "214  8c32758bc2f4b49ed8c6dfe7caa7ea49  1760a7e2012ae33c54aa97b27e3c8406\n",
       "215  8c32758bc2f4b49ed8c6dfe7caa7ea49  7f4d2b129d44429a4ae8e8e467d484e9\n",
       "216  8c32758bc2f4b49ed8c6dfe7caa7ea49  f54c2cc57f3ea7da2771fb348966ff0b\n",
       "217  8c32758bc2f4b49ed8c6dfe7caa7ea49  ad9411e50bea7d1cf2aa06bb87e058ae\n",
       "218  8c32758bc2f4b49ed8c6dfe7caa7ea49  d0f2785e425f4a8e3ecef669a9384a38\n",
       "219  8c32758bc2f4b49ed8c6dfe7caa7ea49  3cb6b6b668ed5f7a90159f9d1dcb0ec2\n",
       "220  8c32758bc2f4b49ed8c6dfe7caa7ea49  292d422968c9195f3868c77f183d7e5f\n",
       "221  8c32758bc2f4b49ed8c6dfe7caa7ea49  d999520723b2365d2293939612d9ca37\n",
       "222  8c32758bc2f4b49ed8c6dfe7caa7ea49  c9ddca4904950f36444729ce8e7a4e5f\n",
       "223  8c32758bc2f4b49ed8c6dfe7caa7ea49  0a6489bb1c591f6b6124cf857df520d3\n",
       "224  8c32758bc2f4b49ed8c6dfe7caa7ea49  131f7016223590ffc74b90fff02a2d22\n",
       "225  8c32758bc2f4b49ed8c6dfe7caa7ea49  7f5e4514e29a4b13083ac51a4af89b96\n",
       "226  8c32758bc2f4b49ed8c6dfe7caa7ea49  e83e2ce8d325ed9e5bc132f84afdebb4\n",
       "227  8c32758bc2f4b49ed8c6dfe7caa7ea49  f8f84ac9dc30f3ff640ad4f691fee2b1\n",
       "228  8c32758bc2f4b49ed8c6dfe7caa7ea49  ca6492edea775480a14b2d207db54706"
      ]
     },
     "execution_count": 768,
     "metadata": {},
     "output_type": "execute_result"
    }
   ],
   "source": [
    "###NSP-9\n",
    "import py3Dmol\n",
    "interactions[interactions['SARS_COV2_Protein_ID'] == '8c32758bc2f4b49ed8c6dfe7caa7ea49']"
   ]
  },
  {
   "cell_type": "code",
   "execution_count": 769,
   "metadata": {},
   "outputs": [],
   "source": [
    "wd = '/Users/kaushikramganapathy/covid-19-community/notebooks'\n",
    "os.chdir(wd)"
   ]
  },
  {
   "cell_type": "code",
   "execution_count": 770,
   "metadata": {},
   "outputs": [
    {
     "data": {
      "application/3dmoljs_load.v0": "<div id=\"3dmolviewer_15906867385736551\"  style=\"position: relative; width: 640px; height: 480px\">\n        <p id=\"3dmolwarning_15906867385736551\" style=\"background-color:#ffcccc;color:black\">You appear to be running in JupyterLab (or JavaScript failed to load for some other reason).  You need to install the 3dmol extension: <br>\n        <tt>jupyter labextension install jupyterlab_3dmol</tt></p>\n        </div>\n<script>\n\nvar loadScriptAsync = function(uri){\n  return new Promise((resolve, reject) => {\n    var tag = document.createElement('script');\n    tag.src = uri;\n    tag.async = true;\n    tag.onload = () => {\n      resolve();\n    };\n  var firstScriptTag = document.getElementsByTagName('script')[0];\n  firstScriptTag.parentNode.insertBefore(tag, firstScriptTag);\n});\n};\n\nif(typeof $3Dmolpromise === 'undefined') {\n$3Dmolpromise = null;\n  $3Dmolpromise = loadScriptAsync('https://3dmol.csb.pitt.edu/build/3Dmol.js');\n}\n\nvar viewer_15906867385736551 = null;\nvar warn = document.getElementById(\"3dmolwarning_15906867385736551\");\nif(warn) {\n    warn.parentNode.removeChild(warn);\n}\n$3Dmolpromise.then(function() {\nviewer_15906867385736551 = $3Dmol.createViewer($(\"#3dmolviewer_15906867385736551\"),{backgroundColor:\"white\"});\n$3Dmol.download(\"pdb:6W4B\", viewer_15906867385736551, {}, function() {\n\tviewer_15906867385736551.setStyle({\"cartoon\": {\"color\": \"white\"}});\nviewer_15906867385736551.render();\n})\n});\n</script>",
      "text/html": [
       "<div id=\"3dmolviewer_15906867385736551\"  style=\"position: relative; width: 640px; height: 480px\">\n",
       "        <p id=\"3dmolwarning_15906867385736551\" style=\"background-color:#ffcccc;color:black\">You appear to be running in JupyterLab (or JavaScript failed to load for some other reason).  You need to install the 3dmol extension: <br>\n",
       "        <tt>jupyter labextension install jupyterlab_3dmol</tt></p>\n",
       "        </div>\n",
       "<script>\n",
       "\n",
       "var loadScriptAsync = function(uri){\n",
       "  return new Promise((resolve, reject) => {\n",
       "    var tag = document.createElement('script');\n",
       "    tag.src = uri;\n",
       "    tag.async = true;\n",
       "    tag.onload = () => {\n",
       "      resolve();\n",
       "    };\n",
       "  var firstScriptTag = document.getElementsByTagName('script')[0];\n",
       "  firstScriptTag.parentNode.insertBefore(tag, firstScriptTag);\n",
       "});\n",
       "};\n",
       "\n",
       "if(typeof $3Dmolpromise === 'undefined') {\n",
       "$3Dmolpromise = null;\n",
       "  $3Dmolpromise = loadScriptAsync('https://3dmol.csb.pitt.edu/build/3Dmol.js');\n",
       "}\n",
       "\n",
       "var viewer_15906867385736551 = null;\n",
       "var warn = document.getElementById(\"3dmolwarning_15906867385736551\");\n",
       "if(warn) {\n",
       "    warn.parentNode.removeChild(warn);\n",
       "}\n",
       "$3Dmolpromise.then(function() {\n",
       "viewer_15906867385736551 = $3Dmol.createViewer($(\"#3dmolviewer_15906867385736551\"),{backgroundColor:\"white\"});\n",
       "$3Dmol.download(\"pdb:6W4B\", viewer_15906867385736551, {}, function() {\n",
       "\tviewer_15906867385736551.setStyle({\"cartoon\": {\"color\": \"white\"}});\n",
       "viewer_15906867385736551.render();\n",
       "})\n",
       "});\n",
       "</script>"
      ]
     },
     "metadata": {},
     "output_type": "display_data"
    },
    {
     "data": {
      "text/plain": [
       "<py3Dmol.view at 0x12680b198>"
      ]
     },
     "execution_count": 770,
     "metadata": {},
     "output_type": "execute_result"
    }
   ],
   "source": [
    "viz = py3Dmol.view(query='pdb:6W4B')\n",
    "viz.setStyle({'cartoon': {'color':'white'}})"
   ]
  },
  {
   "cell_type": "markdown",
   "metadata": {},
   "source": [
    "# TODO / In-progress"
   ]
  },
  {
   "cell_type": "markdown",
   "metadata": {},
   "source": [
    "* Workflow for integration with 01c data, thus connecting it to KG.\n",
    "* Add it on Github/Binder.\n",
    "* Integrate with Production version / Test Scripts on Server \n",
    "* Figure out how to deal with NSP C_145_A etc.\n",
    "* Connect other features (Publication source for Interactions for example)"
   ]
  },
  {
   "cell_type": "markdown",
   "metadata": {},
   "source": [
    "### Simple Integration with 01c to get the links to connect to other compoents of the knowledge graph. "
   ]
  },
  {
   "cell_type": "code",
   "execution_count": 837,
   "metadata": {},
   "outputs": [],
   "source": [
    "human_nodes = nodes[nodes['TaxonomyID'] == 9606]"
   ]
  },
  {
   "cell_type": "code",
   "execution_count": 838,
   "metadata": {},
   "outputs": [],
   "source": [
    "gene_info = data_1c[['gene', 'db_xref']].drop_duplicates()"
   ]
  },
  {
   "cell_type": "code",
   "execution_count": 839,
   "metadata": {},
   "outputs": [],
   "source": [
    "gene_info = gene_info.rename({'gene': 'Name', 'db_xref': 'ID'}, axis = 1)"
   ]
  },
  {
   "cell_type": "code",
   "execution_count": 840,
   "metadata": {},
   "outputs": [],
   "source": [
    "nodes = nodes.merge(data_1c[['db_xref', 'protein_sequence']], left_on='Sequence', right_on='protein_sequence').rename({'db_xref':'GeneID'}, axis = 1)"
   ]
  },
  {
   "cell_type": "code",
   "execution_count": 841,
   "metadata": {},
   "outputs": [],
   "source": [
    "nodes = nodes[['ID', 'TaxonomyID', 'GeneID', 'Name', 'Identifier', 'Sequence', 'Length', 'Start Pos', 'End Pos']]"
   ]
  },
  {
   "cell_type": "code",
   "execution_count": 842,
   "metadata": {},
   "outputs": [],
   "source": [
    "gene_interactions = nodes[['GeneID', 'ID']].drop_duplicates().rename({'ID': 'ProteinID'}, axis = 1)"
   ]
  },
  {
   "cell_type": "code",
   "execution_count": 843,
   "metadata": {},
   "outputs": [],
   "source": [
    "gene_interactions.to_csv('gene_interactions.csv', index = False)"
   ]
  },
  {
   "cell_type": "code",
   "execution_count": 844,
   "metadata": {},
   "outputs": [],
   "source": [
    "nodes = nodes.append(human_nodes, sort = True)"
   ]
  },
  {
   "cell_type": "code",
   "execution_count": 845,
   "metadata": {},
   "outputs": [],
   "source": [
    "nodes = nodes.reset_index(drop = True)"
   ]
  },
  {
   "cell_type": "code",
   "execution_count": 846,
   "metadata": {},
   "outputs": [],
   "source": [
    "nodes = nodes.fillna('')"
   ]
  },
  {
   "cell_type": "code",
   "execution_count": 849,
   "metadata": {},
   "outputs": [],
   "source": [
    "nodes = nodes.drop_duplicates()\n",
    "interactions = interactions.drop_duplicates()"
   ]
  },
  {
   "cell_type": "code",
   "execution_count": 852,
   "metadata": {},
   "outputs": [],
   "source": [
    "nodes.to_csv('01e-nodes.csv', index = False)\n",
    "gene_interactions.to_csv('gene_interactions.csv', index = False)\n",
    "gene_info.to_csv('gene_info.csv', index = False)\n",
    "interactions.to_csv('01e-interactions.csv', index = False)"
   ]
  },
  {
   "cell_type": "markdown",
   "metadata": {},
   "source": [
    "### Nodes"
   ]
  },
  {
   "cell_type": "code",
   "execution_count": 854,
   "metadata": {},
   "outputs": [
    {
     "data": {
      "text/html": [
       "<div>\n",
       "<style scoped>\n",
       "    .dataframe tbody tr th:only-of-type {\n",
       "        vertical-align: middle;\n",
       "    }\n",
       "\n",
       "    .dataframe tbody tr th {\n",
       "        vertical-align: top;\n",
       "    }\n",
       "\n",
       "    .dataframe thead th {\n",
       "        text-align: right;\n",
       "    }\n",
       "</style>\n",
       "<table border=\"1\" class=\"dataframe\">\n",
       "  <thead>\n",
       "    <tr style=\"text-align: right;\">\n",
       "      <th></th>\n",
       "      <th>ID</th>\n",
       "      <th>TaxonomyID</th>\n",
       "      <th>GeneID</th>\n",
       "      <th>Name</th>\n",
       "      <th>Identifier</th>\n",
       "      <th>Sequence</th>\n",
       "      <th>Length</th>\n",
       "      <th>Start Pos</th>\n",
       "      <th>End Pos</th>\n",
       "    </tr>\n",
       "  </thead>\n",
       "  <tbody>\n",
       "    <tr>\n",
       "      <td>0</td>\n",
       "      <td>375e0f905c315e06a99c80b736c125d2</td>\n",
       "      <td>2697049</td>\n",
       "      <td>GeneID:43740570</td>\n",
       "      <td>E</td>\n",
       "      <td>uniprot:P0DTC4</td>\n",
       "      <td>MYSFVSEETGTLIVNSVLLFLAFVVFLLVTLAILTALRLCAYCCNI...</td>\n",
       "      <td>75</td>\n",
       "      <td>26245</td>\n",
       "      <td>26472</td>\n",
       "    </tr>\n",
       "    <tr>\n",
       "      <td>1</td>\n",
       "      <td>1cd6abff79ad3633e17582eb0e576539</td>\n",
       "      <td>2697049</td>\n",
       "      <td>GeneID:43740571</td>\n",
       "      <td>M</td>\n",
       "      <td>uniprot:P0DTC5</td>\n",
       "      <td>MADSNGTITVEELKKLLEQWNLVIGFLFLTWICLLQFAYANRNRFL...</td>\n",
       "      <td>222</td>\n",
       "      <td>26523</td>\n",
       "      <td>27191</td>\n",
       "    </tr>\n",
       "    <tr>\n",
       "      <td>2</td>\n",
       "      <td>5c2c364f44079728c451280435c4236a</td>\n",
       "      <td>2697049</td>\n",
       "      <td>GeneID:43740578</td>\n",
       "      <td>NSP1</td>\n",
       "      <td>uniprot:P0DTD1-PRO_0000449619</td>\n",
       "      <td>MESLVPGFNEKTHVQLSLPVLQVRDVLVRGFGDSVEEVLSEARQHL...</td>\n",
       "      <td>180</td>\n",
       "      <td>266</td>\n",
       "      <td>805</td>\n",
       "    </tr>\n",
       "    <tr>\n",
       "      <td>4</td>\n",
       "      <td>63d2c81f37726f44c600eb5225676a66</td>\n",
       "      <td>2697049</td>\n",
       "      <td>GeneID:43740578</td>\n",
       "      <td>NSP11</td>\n",
       "      <td>uniprot:P0DTC1-PRO_0000449645</td>\n",
       "      <td>SADAQSFLNGFAV</td>\n",
       "      <td>13</td>\n",
       "      <td>13442</td>\n",
       "      <td>13484</td>\n",
       "    </tr>\n",
       "    <tr>\n",
       "      <td>5</td>\n",
       "      <td>af0cec59296f3c845a7b04500cd6886b</td>\n",
       "      <td>2697049</td>\n",
       "      <td>GeneID:43740578</td>\n",
       "      <td>NSP10</td>\n",
       "      <td>uniprot:P0DTD1-PRO_0000449628</td>\n",
       "      <td>AGNATEVPANSTVLSFCAFAVDAAKAYKDYLASGGQPITNCVKMLC...</td>\n",
       "      <td>139</td>\n",
       "      <td>13025</td>\n",
       "      <td>13441</td>\n",
       "    </tr>\n",
       "  </tbody>\n",
       "</table>\n",
       "</div>"
      ],
      "text/plain": [
       "                                 ID  TaxonomyID           GeneID   Name  \\\n",
       "0  375e0f905c315e06a99c80b736c125d2     2697049  GeneID:43740570      E   \n",
       "1  1cd6abff79ad3633e17582eb0e576539     2697049  GeneID:43740571      M   \n",
       "2  5c2c364f44079728c451280435c4236a     2697049  GeneID:43740578   NSP1   \n",
       "4  63d2c81f37726f44c600eb5225676a66     2697049  GeneID:43740578  NSP11   \n",
       "5  af0cec59296f3c845a7b04500cd6886b     2697049  GeneID:43740578  NSP10   \n",
       "\n",
       "                      Identifier  \\\n",
       "0                 uniprot:P0DTC4   \n",
       "1                 uniprot:P0DTC5   \n",
       "2  uniprot:P0DTD1-PRO_0000449619   \n",
       "4  uniprot:P0DTC1-PRO_0000449645   \n",
       "5  uniprot:P0DTD1-PRO_0000449628   \n",
       "\n",
       "                                            Sequence  Length Start Pos End Pos  \n",
       "0  MYSFVSEETGTLIVNSVLLFLAFVVFLLVTLAILTALRLCAYCCNI...      75     26245   26472  \n",
       "1  MADSNGTITVEELKKLLEQWNLVIGFLFLTWICLLQFAYANRNRFL...     222     26523   27191  \n",
       "2  MESLVPGFNEKTHVQLSLPVLQVRDVLVRGFGDSVEEVLSEARQHL...     180       266     805  \n",
       "4                                      SADAQSFLNGFAV      13     13442   13484  \n",
       "5  AGNATEVPANSTVLSFCAFAVDAAKAYKDYLASGGQPITNCVKMLC...     139     13025   13441  "
      ]
     },
     "execution_count": 854,
     "metadata": {},
     "output_type": "execute_result"
    }
   ],
   "source": [
    "nodes[['ID', 'TaxonomyID', 'GeneID', 'Name', 'Identifier', 'Sequence', 'Length', 'Start Pos', 'End Pos']].head()"
   ]
  },
  {
   "cell_type": "markdown",
   "metadata": {},
   "source": [
    "### Gene Info"
   ]
  },
  {
   "cell_type": "code",
   "execution_count": 857,
   "metadata": {},
   "outputs": [
    {
     "data": {
      "text/html": [
       "<div>\n",
       "<style scoped>\n",
       "    .dataframe tbody tr th:only-of-type {\n",
       "        vertical-align: middle;\n",
       "    }\n",
       "\n",
       "    .dataframe tbody tr th {\n",
       "        vertical-align: top;\n",
       "    }\n",
       "\n",
       "    .dataframe thead th {\n",
       "        text-align: right;\n",
       "    }\n",
       "</style>\n",
       "<table border=\"1\" class=\"dataframe\">\n",
       "  <thead>\n",
       "    <tr style=\"text-align: right;\">\n",
       "      <th></th>\n",
       "      <th>Name</th>\n",
       "      <th>ID</th>\n",
       "    </tr>\n",
       "  </thead>\n",
       "  <tbody>\n",
       "    <tr>\n",
       "      <td>0</td>\n",
       "      <td>ORF1ab</td>\n",
       "      <td>GeneID:43740578</td>\n",
       "    </tr>\n",
       "    <tr>\n",
       "      <td>2</td>\n",
       "      <td>S</td>\n",
       "      <td>GeneID:43740568</td>\n",
       "    </tr>\n",
       "    <tr>\n",
       "      <td>3</td>\n",
       "      <td>ORF3a</td>\n",
       "      <td>GeneID:43740569</td>\n",
       "    </tr>\n",
       "    <tr>\n",
       "      <td>4</td>\n",
       "      <td>E</td>\n",
       "      <td>GeneID:43740570</td>\n",
       "    </tr>\n",
       "    <tr>\n",
       "      <td>5</td>\n",
       "      <td>M</td>\n",
       "      <td>GeneID:43740571</td>\n",
       "    </tr>\n",
       "  </tbody>\n",
       "</table>\n",
       "</div>"
      ],
      "text/plain": [
       "     Name               ID\n",
       "0  ORF1ab  GeneID:43740578\n",
       "2       S  GeneID:43740568\n",
       "3   ORF3a  GeneID:43740569\n",
       "4       E  GeneID:43740570\n",
       "5       M  GeneID:43740571"
      ]
     },
     "execution_count": 857,
     "metadata": {},
     "output_type": "execute_result"
    }
   ],
   "source": [
    "gene_info.head()"
   ]
  },
  {
   "cell_type": "markdown",
   "metadata": {},
   "source": [
    "### Gene Interactions"
   ]
  },
  {
   "cell_type": "code",
   "execution_count": 858,
   "metadata": {},
   "outputs": [
    {
     "data": {
      "text/html": [
       "<div>\n",
       "<style scoped>\n",
       "    .dataframe tbody tr th:only-of-type {\n",
       "        vertical-align: middle;\n",
       "    }\n",
       "\n",
       "    .dataframe tbody tr th {\n",
       "        vertical-align: top;\n",
       "    }\n",
       "\n",
       "    .dataframe thead th {\n",
       "        text-align: right;\n",
       "    }\n",
       "</style>\n",
       "<table border=\"1\" class=\"dataframe\">\n",
       "  <thead>\n",
       "    <tr style=\"text-align: right;\">\n",
       "      <th></th>\n",
       "      <th>GeneID</th>\n",
       "      <th>ProteinID</th>\n",
       "    </tr>\n",
       "  </thead>\n",
       "  <tbody>\n",
       "    <tr>\n",
       "      <td>0</td>\n",
       "      <td>GeneID:43740570</td>\n",
       "      <td>375e0f905c315e06a99c80b736c125d2</td>\n",
       "    </tr>\n",
       "    <tr>\n",
       "      <td>1</td>\n",
       "      <td>GeneID:43740571</td>\n",
       "      <td>1cd6abff79ad3633e17582eb0e576539</td>\n",
       "    </tr>\n",
       "    <tr>\n",
       "      <td>2</td>\n",
       "      <td>GeneID:43740578</td>\n",
       "      <td>5c2c364f44079728c451280435c4236a</td>\n",
       "    </tr>\n",
       "    <tr>\n",
       "      <td>4</td>\n",
       "      <td>GeneID:43740578</td>\n",
       "      <td>63d2c81f37726f44c600eb5225676a66</td>\n",
       "    </tr>\n",
       "    <tr>\n",
       "      <td>5</td>\n",
       "      <td>GeneID:43740578</td>\n",
       "      <td>af0cec59296f3c845a7b04500cd6886b</td>\n",
       "    </tr>\n",
       "  </tbody>\n",
       "</table>\n",
       "</div>"
      ],
      "text/plain": [
       "            GeneID                         ProteinID\n",
       "0  GeneID:43740570  375e0f905c315e06a99c80b736c125d2\n",
       "1  GeneID:43740571  1cd6abff79ad3633e17582eb0e576539\n",
       "2  GeneID:43740578  5c2c364f44079728c451280435c4236a\n",
       "4  GeneID:43740578  63d2c81f37726f44c600eb5225676a66\n",
       "5  GeneID:43740578  af0cec59296f3c845a7b04500cd6886b"
      ]
     },
     "execution_count": 858,
     "metadata": {},
     "output_type": "execute_result"
    }
   ],
   "source": [
    "gene_interactions.head()"
   ]
  },
  {
   "cell_type": "code",
   "execution_count": null,
   "metadata": {},
   "outputs": [],
   "source": []
  }
 ],
 "metadata": {
  "kernelspec": {
   "display_name": "Python 3",
   "language": "python",
   "name": "python3"
  },
  "language_info": {
   "codemirror_mode": {
    "name": "ipython",
    "version": 3
   },
   "file_extension": ".py",
   "mimetype": "text/x-python",
   "name": "python",
   "nbconvert_exporter": "python",
   "pygments_lexer": "ipython3",
   "version": "3.7.3"
  }
 },
 "nbformat": 4,
 "nbformat_minor": 2
}
